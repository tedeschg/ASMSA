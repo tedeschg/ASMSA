{
 "cells": [
  {
   "cell_type": "code",
   "execution_count": null,
   "id": "30e5bd8e-8859-473c-a3f9-1e3f4a65cb39",
   "metadata": {},
   "outputs": [],
   "source": [
    "import ASMSATorsions"
   ]
  },
  {
   "cell_type": "markdown",
   "id": "f6e6f885-5a8f-4c33-b710-f8baf332436c",
   "metadata": {},
   "source": [
    "* Training .pdb and .xtc\n",
    "* torsion file, calculated on training data"
   ]
  },
  {
   "cell_type": "code",
   "execution_count": null,
   "id": "e103c4ff-0015-4b13-ba8e-14c1893f02b0",
   "metadata": {},
   "outputs": [],
   "source": [
    "ASMSATorsions.plots(conf = \"xxx.pdb\",traj = \"xxx.xtc\", lows=\"lows-cust.txt\", torsions=\"torsion_trp\", s=0.5, save_png='xxx.png', dpi=300)"
   ]
  },
  {
   "cell_type": "code",
   "execution_count": null,
   "id": "75638c56-1255-4642-ab86-a0fe791c8947",
   "metadata": {},
   "outputs": [],
   "source": [
    "import mdtraj as md\n",
    "import matplotlib.pyplot as plt\n",
    "import numpy as np"
   ]
  },
  {
   "cell_type": "code",
   "execution_count": null,
   "id": "e7d563b9-773e-45fd-99e3-57d7d2bb7465",
   "metadata": {},
   "outputs": [],
   "source": [
    "fig, axs = plt.subplots(3, 4, figsize=(20, 15))\n",
    "\n",
    "s = 0.5\n",
    "    \n",
    "axs[0, 0].scatter(proj[:, 0], proj[:, 1], c=rmsd, cmap='rainbow', s=s)\n",
    "axs[0, 0].set_title('c by rmsd')\n",
    "axs[0, 0].set_xlabel('CV1', size=\"15\")\n",
    "axs[0, 0].set_ylabel('CV2', size=\"15\")\n",
    "    \n",
    "    # Plot chi2\n",
    "    \n",
    "axs[0, 1].scatter(proj[:, 0], proj[:, 1], c=rg, cmap='rainbow', s=s)\n",
    "axs[0, 1].set_title('c by rgy')\n",
    "axs[0, 1].set_xlabel('CV1', size=\"15\")\n",
    "axs[0, 1].set_ylabel('CV2', size=\"15\")\n",
    "    \n",
    "    \n",
    "axs[0, 2].scatter(t,rmsd, c=rmsd, cmap='rainbow', s=s)\n",
    "axs[0, 2].set_title('c by rmsd')\n",
    "axs[0, 2].set_xlabel('CV1', size=\"15\")\n",
    "axs[0, 2].set_ylabel('CV2', size=\"15\")\n",
    "axs[0, 2].set_ylim(min(rmsd), max(rg))\n",
    "    \n",
    "    \n",
    "axs[0, 3].scatter(t,rg, c=rg, cmap='rainbow', s=s)\n",
    "axs[0, 3].set_title('c by rgy')\n",
    "axs[0, 3].set_xlabel('CV1', size=\"15\")\n",
    "axs[0, 3].set_ylabel('CV2', size=\"15\")\n",
    "\n",
    "    # Plot chi1\n",
    "axs[1, 0].scatter(proj[:, 0], proj[:, 1], c=chi1, cmap='rainbow', s=s)\n",
    "axs[1, 0].set_title('c by chi1')\n",
    "axs[1, 0].set_xlabel('CV1', size=\"15\")\n",
    "axs[1, 0].set_ylabel('CV2', size=\"15\")\n",
    "    \n",
    "    # Plot chi2\n",
    "axs[1, 1].scatter(proj[:, 0], proj[:, 1], c=chi2, cmap='rainbow', s=s)\n",
    "axs[1, 1].set_title('c by chi2')\n",
    "axs[1, 1].set_xlabel('CV1', size=\"15\")\n",
    "axs[1, 1].set_ylabel('CV2', size=\"15\")\n",
    "    \n",
    "# Plot chi1-chi2\n",
    "axs[1, 2].scatter(chi1, chi2, c=chi1, cmap='rainbow', s=s)\n",
    "axs[1, 2].set_title('c by chi1')\n",
    "axs[1, 2].set_xlabel('chi1', size=\"15\")\n",
    "axs[1, 2].set_ylabel('chi2', size=\"15\")\n",
    "    \n",
    "    # Plot chi1-chi2\n",
    "axs[1, 3].scatter(chi1, chi2, c=chi2, cmap='rainbow', s=s)\n",
    "axs[1, 3].set_title('c by chi2')\n",
    "axs[1, 3].set_xlabel('chi1', size=\"15\")\n",
    "axs[1, 3].set_ylabel('chi2', size=\"15\")\n",
    "    \n",
    "    # Plot phi\n",
    "axs[2, 0].scatter(proj[:, 0], proj[:, 1],c=phi, cmap='rainbow', s=s)\n",
    "axs[2, 0].set_title('c by phi')\n",
    "axs[2, 0].set_xlabel('CV1', size=\"15\")\n",
    "axs[2, 0].set_ylabel('CV2', size=\"15\")\n",
    "\n",
    "    # Plot psi\n",
    "axs[2, 1].scatter(proj[:, 0], proj[:, 1], c=psi, cmap='rainbow', s=s)\n",
    "axs[2, 1].set_title('c by psi')\n",
    "axs[2, 1].set_xlabel('CV1', size=\"15\")\n",
    "axs[2, 1].set_ylabel('CV2', size=\"15\")\n",
    "    \n",
    "    # Plot phi-psi\n",
    "axs[2, 2].scatter(phi, psi, c=phi, cmap='rainbow', s=s)\n",
    "axs[2, 2].set_title('c by phi')\n",
    "axs[2, 2].set_xlabel('phi', size=\"15\")\n",
    "axs[2, 2].set_ylabel('psi', size=\"15\")\n",
    "    \n",
    "    # Plot phi-psi\n",
    "axs[2, 3].scatter(phi, psi, c=psi, cmap='rainbow', s=s)\n",
    "axs[2, 3].set_title('c by psi')\n",
    "axs[2, 3].set_xlabel('phi', size=\"15\")\n",
    "axs[2, 3].set_ylabel('psi', size=\"15\")\n",
    "    \n",
    "    \n",
    "    \n",
    "plt.tight_layout()\n",
    "    \n",
    "plt.savefig(\"12.png\",dpi=600)"
   ]
  },
  {
   "cell_type": "code",
   "execution_count": null,
   "id": "137abdaa-f332-43dd-a456-14690fa6216a",
   "metadata": {},
   "outputs": [],
   "source": []
  }
 ],
 "metadata": {
  "kernelspec": {
   "display_name": "Python 3 (ipykernel)",
   "language": "python",
   "name": "python3"
  },
  "language_info": {
   "codemirror_mode": {
    "name": "ipython",
    "version": 3
   },
   "file_extension": ".py",
   "mimetype": "text/x-python",
   "name": "python",
   "nbconvert_exporter": "python",
   "pygments_lexer": "ipython3",
   "version": "3.10.11"
  }
 },
 "nbformat": 4,
 "nbformat_minor": 5
}
