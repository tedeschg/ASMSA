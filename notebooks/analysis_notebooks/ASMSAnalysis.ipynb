{
 "cells": [
  {
   "cell_type": "code",
   "execution_count": null,
   "id": "1e0f2c6c-4b12-4df1-89e2-dc7add2b13e8",
   "metadata": {},
   "outputs": [],
   "source": [
    "#avoid TF to consume GPU memory\n",
    "import os\n",
    "import glob\n",
    "import tensorflow as tf\n",
    "import mdtraj as md\n",
    "import matplotlib.pyplot as plt\n",
    "import gromacs as gmx \n",
    "import numpy as np\n",
    "import nglview as nv\n",
    "import ASMSAnalysis \n",
    "\n",
    "tf.config.set_visible_devices([], 'GPU')\n",
    "tf.config.list_logical_devices()\n",
    "\n",
    "#%matplotlib widget\n"
   ]
  },
  {
   "cell_type": "code",
   "execution_count": null,
   "id": "456d3057-caae-429f-9126-8e5799cab038",
   "metadata": {},
   "outputs": [],
   "source": [
    "conf = \"../../Thermal-unfolding/trpcage_npt400_nH.pdb\"\n",
    "traj = \"../../Thermal-unfolding/trpcage_ds_nH.xtc\"\n",
    "hills = \"../4.MD/mtd1/HILLS-1\"\n",
    "lows_filename = \"../3.Train/low/lows.txt\"\n",
    "\n",
    "analysis = ASMSAnalysis.Analysis(conf,traj,hills,lows_filename)"
   ]
  },
  {
   "cell_type": "code",
   "execution_count": null,
   "id": "edecd168-925b-4588-8f2d-51bb78d5f081",
   "metadata": {},
   "outputs": [],
   "source": [
    "\n",
    "conf_nh, traj_fit = analysis.prepare_trajectory()\n",
    "tr = md.load(traj_fit, top=conf_nh)\n",
    "\n",
    "idx_res = tr.top.select(\"residue 6\")\n",
    "idx_b = tr.top.select(\"backbone\")\n",
    "idx_ca = tr.top.select(\"name CA\")\n",
    "idx = tr.top.select(\"protein\")\n",
    "\n",
    "tr.superpose(tr, atom_indices=idx_b)\n",
    "\n",
    "rmsds = md.rmsd(tr, tr, 0, atom_indices=idx_res, precentered=True)\n",
    "\n",
    "plt.figure(figsize=(10, 4))\n",
    "plt.title(f'RMSD Backbone - {int(tr.time[-1]/1000)} ns')\n",
    "plt.scatter(tr.time / 1000, rmsds, c=rmsds, s=0.1, cmap='jet')\n",
    "plt.xlabel('Time (ns)')\n",
    "plt.ylabel('RMSD (nm)')\n",
    "plt.colorbar(label='')\n",
    "plt.show()"
   ]
  },
  {
   "cell_type": "code",
   "execution_count": null,
   "id": "fa285778-0777-445a-80fd-cba31e4a2466",
   "metadata": {},
   "outputs": [],
   "source": [
    "analysis.on_the_flight(interval=30)"
   ]
  },
  {
   "cell_type": "code",
   "execution_count": null,
   "id": "b7fc47f9-cbbd-4e8a-acff-e81289bfae1c",
   "metadata": {},
   "outputs": [],
   "source": [
    "conf_nh, traj_fit = analysis.prepare_trajectory()\n",
    "tr = md.load(traj_fit, top=conf_nh)\n",
    "\n",
    "directory = './'  \n",
    "files_to_delete = glob.glob(os.path.join(directory, '#*'))\n",
    "for file in files_to_delete:\n",
    "    os.remove(file)\n",
    "\n",
    "\n",
    "\n",
    "v = nv.show_mdtraj(tr, default=False, gui=True)  # Enable GUI for play button\n",
    "v.add_cartoon(selection=\"protein\", color='red')\n",
    "c = v.add_component(tr[0], default=False, gui=False)\n",
    "c.add_cartoon(selection=\"protein\", color='blue')\n",
    "\n",
    "v.add_licorice(selection=\"res 6\", c='red')\n",
    "c.add_licorice(selection=\"res 6\", c='blue')\n",
    "\n",
    "\n",
    "v.center(selection='protein')\n",
    "v.render_image(trim=True, factor=3)\n",
    "v.camera = 'orthographic'\n",
    "v.background = 'white'\n",
    "v"
   ]
  },
  {
   "cell_type": "code",
   "execution_count": null,
   "id": "7c8c2dda-dcec-4ec6-ae0f-41053d74a8a2",
   "metadata": {},
   "outputs": [],
   "source": [
    "gmx.editconf(f='npt.gro',input='Protein-H',o='npt_nh.pdb', ndef=True)"
   ]
  },
  {
   "cell_type": "code",
   "execution_count": null,
   "id": "442b6544-6dcd-4473-8171-06ccd6e0d893",
   "metadata": {},
   "outputs": [],
   "source": [
    "analysis.calculate_rmsd()"
   ]
  },
  {
   "cell_type": "code",
   "execution_count": null,
   "id": "70074c56-46ff-4eb6-b865-2239d5c63cf4",
   "metadata": {},
   "outputs": [],
   "source": [
    "analysis.highlights_and_dynamic()"
   ]
  },
  {
   "cell_type": "code",
   "execution_count": null,
   "id": "ab6683fb-f745-4f43-8210-b3b09af22164",
   "metadata": {},
   "outputs": [],
   "source": [
    "directory = './'  \n",
    "files_to_delete = glob.glob(os.path.join(directory, '#*'))\n",
    "for file in files_to_delete:\n",
    "    os.remove(file)"
   ]
  },
  {
   "cell_type": "code",
   "execution_count": null,
   "id": "f9a710e2-b6d5-4df4-bc14-849416276d5a",
   "metadata": {},
   "outputs": [],
   "source": [
    "!pip install metadynminer"
   ]
  },
  {
   "cell_type": "code",
   "execution_count": null,
   "id": "b82726b3-8c0c-405e-a916-dd052e3a3e22",
   "metadata": {},
   "outputs": [],
   "source": [
    "import metadynminer as m"
   ]
  },
  {
   "cell_type": "code",
   "execution_count": null,
   "id": "bc85f096-99fd-4ac7-8c47-108ed1d62b66",
   "metadata": {},
   "outputs": [],
   "source": [
    "hf = m.Hills(name=\"HILLS\")"
   ]
  },
  {
   "cell_type": "code",
   "execution_count": null,
   "id": "f184dc54-1d35-4d28-a6b8-726fbd01143e",
   "metadata": {},
   "outputs": [],
   "source": [
    "fes = m.Fes(hf)"
   ]
  },
  {
   "cell_type": "code",
   "execution_count": null,
   "id": "0b604969-5421-4fc7-a355-751cf27eb5de",
   "metadata": {},
   "outputs": [],
   "source": [
    "fes.plot()"
   ]
  },
  {
   "cell_type": "code",
   "execution_count": null,
   "id": "b7eb4f0d-3317-4666-a629-a79349382d05",
   "metadata": {
    "scrolled": true
   },
   "outputs": [],
   "source": [
    "minima = m.Minima(fes)\n",
    "print(minima.minima)\n",
    "minima.plot()"
   ]
  },
  {
   "cell_type": "code",
   "execution_count": null,
   "id": "d0960fa3-b6e9-4d20-95c2-3ad2adc63ea2",
   "metadata": {},
   "outputs": [],
   "source": [
    "fep = metadynminer.FEProfile(minima, hillsfile)\n",
    "fep.plot()"
   ]
  },
  {
   "cell_type": "code",
   "execution_count": null,
   "id": "873a0872-69b1-4da5-ab93-fee68d4a7292",
   "metadata": {},
   "outputs": [],
   "source": []
  }
 ],
 "metadata": {
  "kernelspec": {
   "display_name": "Python 3 (ipykernel)",
   "language": "python",
   "name": "python3"
  },
  "language_info": {
   "codemirror_mode": {
    "name": "ipython",
    "version": 3
   },
   "file_extension": ".py",
   "mimetype": "text/x-python",
   "name": "python",
   "nbconvert_exporter": "python",
   "pygments_lexer": "ipython3",
   "version": "3.10.11"
  }
 },
 "nbformat": 4,
 "nbformat_minor": 5
}
