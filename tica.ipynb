{
 "cells": [
  {
   "cell_type": "code",
   "execution_count": null,
   "id": "4b88afac-4f08-48a2-a3bb-f6ea793f968c",
   "metadata": {},
   "outputs": [],
   "source": [
    "from timelagged import TICA\n",
    "import tensorflow as tf\n",
    "import numpy as np\n",
    "import matplotlib.pyplot as plt"
   ]
  },
  {
   "cell_type": "code",
   "execution_count": null,
   "id": "e80f35f6-c1e8-47d6-91dd-d249b4fe53fa",
   "metadata": {},
   "outputs": [],
   "source": [
    "tr = '../DE-Shaw/trpcage_red.xtc'\n",
    "conf ='../DE-Shaw/trpcage_correct.pdb'"
   ]
  },
  {
   "cell_type": "code",
   "execution_count": null,
   "id": "e91ea24e-cd35-49bf-9f4c-13bf4bc7557b",
   "metadata": {},
   "outputs": [],
   "source": [
    "import mdtraj as md\n",
    "import numpy as np\n",
    "from deeptime.decomposition import TICA\n",
    "\n",
    "# Carico la traiettoria\n",
    "traj = md.load(tr, top=conf)\n",
    "\n",
    "# Seleziono gli atomi Cα\n",
    "ca_indices = traj.topology.select(\"protein\")\n",
    "\n",
    "# Estraggo le coordinate\n",
    "X = traj.xyz[:, ca_indices, :].reshape(traj.n_frames, -1)  # (frames x features)\n",
    "\n",
    "# Definisco TICA\n",
    "tica = TICA(lagtime=10, dim=2)\n",
    "\n",
    "Y = tica.fit_transform(X)\n",
    "np.save(\"tica3.npy\", Y)\n",
    "\n",
    "print(\"Shape delle coordinate TICA:\", Y.shape)\n"
   ]
  },
  {
   "cell_type": "code",
   "execution_count": null,
   "id": "1e10011e-b3d4-42a7-8aad-4a3d663dcd61",
   "metadata": {},
   "outputs": [],
   "source": [
    "rmsd = md.rmsd(traj, traj, 0)"
   ]
  },
  {
   "cell_type": "code",
   "execution_count": null,
   "id": "7508044d-2ff1-44e6-ba16-5894b2093d82",
   "metadata": {},
   "outputs": [],
   "source": [
    "len(Y[:,0])"
   ]
  },
  {
   "cell_type": "code",
   "execution_count": null,
   "id": "172e8502-9c46-4e4d-8142-44fbb882eb53",
   "metadata": {},
   "outputs": [],
   "source": [
    "plt.figure(figsize=(12,4))\n",
    "plt.subplot(121)\n",
    "plt.scatter(np.arange(len(Y[:,0])), Y[:,0], c=rmsd, cmap=\"rainbow\", s=1)\n",
    "plt.title(\"Tica 1\")\n",
    "plt.subplot(122)\n",
    "plt.scatter(np.arange(len(Y[:,0])), Y[:,1], c=rmsd, cmap=\"rainbow\", s=1)\n",
    "plt.title(\"Tica 2\")"
   ]
  },
  {
   "cell_type": "code",
   "execution_count": null,
   "id": "e8020710-03a7-4952-ba56-0ec0bf7c2f4b",
   "metadata": {},
   "outputs": [],
   "source": [
    "plt.figure(figsize=(12,4))\n",
    "plt.subplot(121)\n",
    "plt.scatter(Y[:,0], Y[:,1], c=rmsd, cmap=\"rainbow\", s=1)\n",
    "plt.title(\"Tica 1 vs Tica 2 by rmsd\")"
   ]
  },
  {
   "cell_type": "code",
   "execution_count": null,
   "id": "930a6fa4-d01a-476c-8191-8d1521af114b",
   "metadata": {},
   "outputs": [],
   "source": [
    "import numpy as np\n",
    "tica = np.load(\"../ASMSA_DE/tica3.npy\")\n",
    "\n",
    "idx = np.argmax(tica[0:20000, 1])  \n",
    "val = tica[idx, 1]           \n",
    "\n",
    "print(\"Time:\", idx)\n",
    "print(\"Value:\", val)\n"
   ]
  },
  {
   "cell_type": "code",
   "execution_count": null,
   "id": "643e4ceb-b59c-43e9-9e7a-30daa32f12a9",
   "metadata": {},
   "outputs": [],
   "source": [
    "import nglview as nv\n",
    "\n",
    "v = nv.show_mdtraj(traj)\n",
    "v.clear()\n",
    "v.add_representation(\"licorice\")\n",
    "v.add_representation(\"cartoon\")\n",
    "v"
   ]
  },
  {
   "cell_type": "code",
   "execution_count": null,
   "id": "f16a8dc7-8c5e-4be9-b8e1-caaa98dcd56b",
   "metadata": {},
   "outputs": [],
   "source": []
  }
 ],
 "metadata": {
  "kernelspec": {
   "display_name": "Python 3 (ipykernel)",
   "language": "python",
   "name": "python3"
  },
  "language_info": {
   "codemirror_mode": {
    "name": "ipython",
    "version": 3
   },
   "file_extension": ".py",
   "mimetype": "text/x-python",
   "name": "python",
   "nbconvert_exporter": "python",
   "pygments_lexer": "ipython3",
   "version": "3.10.11"
  }
 },
 "nbformat": 4,
 "nbformat_minor": 5
}
