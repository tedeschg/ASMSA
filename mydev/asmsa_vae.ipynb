{
 "cells": [
  {
   "cell_type": "markdown",
   "id": "5c7a3cf0",
   "metadata": {},
   "source": [
    "# Preprocessing"
   ]
  },
  {
   "cell_type": "markdown",
   "id": "1457ea1f",
   "metadata": {},
   "source": [
    "## Featurizing"
   ]
  },
  {
   "cell_type": "code",
   "execution_count": null,
   "id": "c5b2509c",
   "metadata": {},
   "outputs": [],
   "source": [
    "import mdtraj as md\n",
    "import numpy as np\n",
    "import datetime\n",
    "import tensorflow as tf\n",
    "import nglview as nv\n",
    "\n",
    "\n",
    "from sklearn.preprocessing import StandardScaler, MinMaxScaler\n",
    "from tensorflow.keras.models import load_model\n",
    "\n",
    "%cd /home/jovyan/ASMSA/mydev\n",
    "\n",
    "import os, sys\n",
    "\n",
    "repo_dir = os.getcwd()   \n",
    "if repo_dir not in sys.path:\n",
    "    sys.path.insert(0, repo_dir)\n",
    "\n",
    "# 3. Fai l’import “pulito”\n",
    "from utils import split_dataset, callbacks, plot_latent_space, process_trajectory\n",
    "from vae import BetaVAE, BetaVAEMonitor, asmsa_beta_vae\n",
    "\n",
    "nn_model = 'vae'\n",
    "latent_dim = 2"
   ]
  },
  {
   "cell_type": "code",
   "execution_count": null,
   "id": "172d539d",
   "metadata": {},
   "outputs": [],
   "source": [
    "tr = \"trpcage_ds_nH.xtc\"\n",
    "conf = \"trpcage_npt400_nH.pdb\"\n",
    "\n",
    "traj = md.load_xtc(tr, top=conf)\n",
    "backbone_atoms = traj.topology.select('backbone')\n",
    "traj.superpose(traj, 0, atom_indices=backbone_atoms)"
   ]
  },
  {
   "cell_type": "code",
   "execution_count": null,
   "id": "980dcc70",
   "metadata": {},
   "outputs": [],
   "source": [
    "view = nv.show_mdtraj(traj)\n",
    "\n",
    "view.add_representation('line', selection='protein')\n",
    "view"
   ]
  },
  {
   "cell_type": "code",
   "execution_count": null,
   "id": "0a207f72",
   "metadata": {},
   "outputs": [],
   "source": [
    "ca_indices, n_ca, bb_indices, n_bb, features_normalized, scaler, coords = process_trajectory(tr, conf)\n",
    "features_normalized.shape"
   ]
  },
  {
   "cell_type": "markdown",
   "id": "2ea7a498",
   "metadata": {},
   "source": [
    "## NN preprocessing"
   ]
  },
  {
   "cell_type": "code",
   "execution_count": null,
   "id": "013f3c79",
   "metadata": {
    "scrolled": true
   },
   "outputs": [],
   "source": [
    "# Uso:\n",
    "ds_train, ds_val, ds_test, ds_all = split_dataset(features_normalized, train_size=70, val_size=15, batch_size=64, seed=42)"
   ]
  },
  {
   "cell_type": "markdown",
   "id": "15f1de9f",
   "metadata": {},
   "source": [
    "# VAE"
   ]
  },
  {
   "cell_type": "code",
   "execution_count": null,
   "id": "49748932",
   "metadata": {},
   "outputs": [],
   "source": [
    "'''\n",
    "Batch Norm, nel caso, va prima della layer activation)\n",
    "'''"
   ]
  },
  {
   "cell_type": "code",
   "execution_count": null,
   "id": "b606e6a9",
   "metadata": {},
   "outputs": [],
   "source": [
    "log_dir = \"logs/autoencoder/\" + datetime.datetime.now().strftime(\"%Y%m%d-%H%M%S\")\n",
    "\n",
    "cb = callbacks(log_dir, latent_dim, monitor=\"val_loss\")\n",
    "\n",
    "learning_rate = 1e-4\n",
    "\n",
    "optimizer = tf.keras.optimizers.AdamW(\n",
    "    learning_rate=learning_rate,\n",
    "    weight_decay=1e-5, \n",
    "    beta_1=0.9,\n",
    "    beta_2=0.999\n",
    ")\n",
    "\n",
    "# Creazione modello con beta migliorato\n",
    "beta_vae, encoder, decoder = asmsa_beta_vae(\n",
    "    n_features=features_normalized.shape[1], \n",
    "    latent_dim=latent_dim,\n",
    "    beta=0.001 \n",
    ")\n",
    "\n",
    "# Compilazione\n",
    "beta_vae.compile(optimizer=optimizer)"
   ]
  },
  {
   "cell_type": "code",
   "execution_count": null,
   "id": "0845da2f-ad59-428d-9a3f-4a3259ff3d51",
   "metadata": {},
   "outputs": [],
   "source": [
    "beta_vae.fit(ds_train, epochs=500, validation_data=ds_val, callbacks=cb)"
   ]
  },
  {
   "cell_type": "markdown",
   "id": "4528c260",
   "metadata": {},
   "source": [
    "tensorboard --logdir logs/autoencoder --host localhost --port 6006"
   ]
  },
  {
   "cell_type": "markdown",
   "id": "ecc5dd8a",
   "metadata": {},
   "source": [
    "# Decode and visualize"
   ]
  },
  {
   "cell_type": "code",
   "execution_count": null,
   "id": "15a36f68-4599-4f52-aca9-b3f5bed65c39",
   "metadata": {},
   "outputs": [],
   "source": [
    "vae = load_model(\n",
    "    'vae_2d.keras',\n",
    "    custom_objects={\n",
    "        'BetaVAE': BetaVAE,\n",
    "        'BetaVAEMonitor': BetaVAEMonitor\n",
    "    }\n",
    ")\n",
    "encoder = vae.get_layer('encoder')\n",
    "decoder = vae.get_layer('decoder')\n"
   ]
  },
  {
   "cell_type": "code",
   "execution_count": null,
   "id": "ad357e99",
   "metadata": {},
   "outputs": [],
   "source": [
    "for batch_x, _ in ds_test.take(1):\n",
    "    sample_x = batch_x[30]  \n",
    "    break\n",
    "    \n",
    "sample_x_batch = tf.expand_dims(sample_x, axis=0)\n",
    "z_mean, z_log_var, test = encoder.predict(sample_x_batch)\n",
    "\n",
    "test"
   ]
  },
  {
   "cell_type": "code",
   "execution_count": null,
   "id": "82f2019c-5f03-4026-905a-dc540689abb5",
   "metadata": {},
   "outputs": [],
   "source": [
    "target = np.array([-2,0]).reshape(1, latent_dim)\n",
    "emb, sample = plot_latent_space(latent_dim, encoder, ds_all, conf, tr, test, bb_indices, model=nn_model, exact=False)"
   ]
  },
  {
   "cell_type": "code",
   "execution_count": null,
   "id": "d1941133-5a13-4f91-9460-bb803001b4bd",
   "metadata": {},
   "outputs": [],
   "source": [
    "rms_ref = md.load_pdb(conf)\n",
    "rms_ref_bb  = rms_ref.atom_slice(bb_indices)\n",
    "rms_ref_ca  = rms_ref.atom_slice(ca_indices)\n",
    "rms_tr = md.load_xtc(tr, top=rms_ref)\n",
    "rmsd = md.rmsd(rms_tr, rms_ref)"
   ]
  },
  {
   "cell_type": "code",
   "execution_count": null,
   "id": "302d2420",
   "metadata": {},
   "outputs": [],
   "source": [
    "p_indices = traj.topology.select(\"protein\")\n",
    "n_p = len(p_indices)"
   ]
  },
  {
   "cell_type": "code",
   "execution_count": null,
   "id": "ff0ab5fd",
   "metadata": {},
   "outputs": [],
   "source": [
    "s = decoder.predict(sample)\n",
    "s_orig = scaler.inverse_transform(s)\n",
    "\n",
    "coords_flat = s_orig[0, :coords.shape[1]]                    \n",
    "coords_p = coords_flat.reshape((n_p, 3))\n",
    "mask_bb = np.isin(p_indices, bb_indices)\n",
    "coords_bb = coords_p[mask_bb] \n",
    "coords_ca = coords_bb[1::4] \n",
    "\n",
    "new_traj = md.Trajectory(\n",
    "    xyz=np.array([coords_bb]),     \n",
    "    topology=rms_ref_bb.topology     \n",
    ")\n",
    "\n",
    "\n",
    "new_traj.save_pdb(\"vae_reconstructed.pdb\")"
   ]
  },
  {
   "cell_type": "code",
   "execution_count": null,
   "id": "82be6feb-d0a6-4ddf-904b-046708791eda",
   "metadata": {},
   "outputs": [],
   "source": [
    "view = nv.show_file('vae_reconstructed.pdb')\n",
    "view.clear_representations()\n",
    "view.add_line() \n",
    "#view.add_cartoon()\n",
    "view.center()\n",
    "view"
   ]
  },
  {
   "cell_type": "code",
   "execution_count": null,
   "id": "dedfed4e-e675-419a-8f30-d5f99486699c",
   "metadata": {},
   "outputs": [],
   "source": [
    "mse = np.mean((s[0] - sample_x.numpy())**2)\n",
    "print(\"MSE ricostruzione:\", mse)"
   ]
  },
  {
   "cell_type": "code",
   "execution_count": null,
   "id": "711cae14",
   "metadata": {},
   "outputs": [],
   "source": [
    "import matplotlib.pyplot as plt\n",
    "import numpy as np\n",
    "\n",
    "# Serie originali e ricostruite\n",
    "orig = sample_x.numpy()\n",
    "recon = s[0]\n",
    "\n",
    "# Calcolo errore per feature\n",
    "error = orig - recon\n",
    "\n",
    "plt.figure(figsize=(14, 6))\n",
    "\n",
    "# 1️⃣ Confronto original vs ricostruito\n",
    "plt.subplot(2, 1, 1)\n",
    "plt.plot(orig, label=\"Originale\", alpha=0.7)\n",
    "plt.plot(recon, label=\"Ricostruito\", alpha=0.7)\n",
    "plt.title(\"Confronto Feature Originali vs Ricostruite\")\n",
    "plt.legend()\n",
    "\n",
    "# 2️⃣ Errore per feature\n",
    "plt.subplot(2, 1, 2)\n",
    "plt.plot(error, label=\"Errore (Originale - Ricostruito)\", color=\"red\", alpha=0.7)\n",
    "plt.axhline(0, color=\"black\", linestyle=\"--\", linewidth=0.8)\n",
    "plt.title(\"Errore di Ricostruzione per Feature\")\n",
    "plt.legend()\n",
    "\n",
    "plt.tight_layout()\n",
    "plt.show()\n"
   ]
  },
  {
   "cell_type": "code",
   "execution_count": null,
   "id": "f2511a56",
   "metadata": {},
   "outputs": [],
   "source": []
  }
 ],
 "metadata": {
  "kernelspec": {
   "display_name": "asmsa",
   "language": "python",
   "name": "python3"
  },
  "language_info": {
   "codemirror_mode": {
    "name": "ipython",
    "version": 3
   },
   "file_extension": ".py",
   "mimetype": "text/x-python",
   "name": "python",
   "nbconvert_exporter": "python",
   "pygments_lexer": "ipython3",
   "version": "3.10.11"
  }
 },
 "nbformat": 4,
 "nbformat_minor": 5
}
