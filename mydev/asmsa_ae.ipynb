{
 "cells": [
  {
   "cell_type": "code",
   "execution_count": null,
   "id": "c5b2509c",
   "metadata": {},
   "outputs": [],
   "source": [
    "import mdtraj as md\n",
    "import numpy as np\n",
    "import datetime\n",
    "import tensorflow as tf\n",
    "import nglview as nv\n",
    "import os, sys\n",
    "import matplotlib.pyplot as plt\n",
    "\n",
    "from tensorflow.keras.models import load_model\n",
    "%cd /home/jovyan/ASMSA/mydev\n",
    "\n",
    "\n",
    "repo_dir = os.getcwd()   \n",
    "if repo_dir not in sys.path:\n",
    "    sys.path.insert(0, repo_dir)\n",
    "\n",
    "from src.utils import plot_latent_space\n",
    "from src.asmsa_callbacks import callbacks\n",
    "from src.ae import asmsa_ae\n",
    "from src.asmsa_features import process_trajectory\n",
    "from src.asmsa_split import asmsa_datasets\n",
    "from src.asmsa_analysis import analyze_reconstruction_with_sincos_blocks, plot_section_errors\n",
    "from src.asmsa_loss import asmsa_ae_loss\n",
    "\n",
    "nn_model = 'ae'\n",
    "latent_dim = 2"
   ]
  },
  {
   "cell_type": "code",
   "execution_count": null,
   "id": "172d539d",
   "metadata": {},
   "outputs": [],
   "source": [
    "tr = \"trpcage_ds_nH.xtc\"\n",
    "conf = \"trpcage_npt400_nH.pdb\"\n",
    "\n",
    "traj = md.load_xtc(tr, top=conf)\n",
    "backbone_atoms = traj.topology.select('backbone')\n",
    "traj.superpose(traj, 0, atom_indices=backbone_atoms)\n"
   ]
  },
  {
   "cell_type": "code",
   "execution_count": null,
   "id": "980dcc70",
   "metadata": {},
   "outputs": [],
   "source": [
    "view = nv.show_mdtraj(traj)\n",
    "\n",
    "view.add_representation('line', selection='protein')\n",
    "view"
   ]
  },
  {
   "cell_type": "code",
   "execution_count": null,
   "id": "2274fab6",
   "metadata": {},
   "outputs": [],
   "source": [
    "pdb_path = conf\n",
    "\n",
    "backbone = []\n",
    "with open(pdb_path) as f:\n",
    "    atom_counter = 0\n",
    "    for line in f:\n",
    "        if not line.startswith(\"ATOM\"):\n",
    "            continue\n",
    "        name = line[12:16].strip()\n",
    "        if name == \"N\" or name == \"C\" or name==\"CA\":\n",
    "            backbone.append(atom_counter)\n",
    "        atom_counter += 1\n",
    "\n",
    "ON = []\n",
    "with open(pdb_path) as f:\n",
    "    atom_counter = 0\n",
    "    for line in f:\n",
    "        if not line.startswith(\"ATOM\"):\n",
    "            continue\n",
    "        name = line[12:16].strip()\n",
    "        if name == \"N\" or name == \"O\":\n",
    "            ON.append(atom_counter)\n",
    "        atom_counter += 1\n",
    "\n",
    "polar = []\n",
    "with open(pdb_path) as f:\n",
    "    atom_counter = 0\n",
    "    for line in f:\n",
    "        if not line.startswith(\"ATOM\"):\n",
    "            continue\n",
    "        name = line[12:16].strip()\n",
    "        pol = {\n",
    "            \"N\", #backbone amide nitrogen\n",
    "            \"O\", #backbone carbonyl oxygen\n",
    "            \"OG\", #Serine\n",
    "            \"OG1\", #Threonine\n",
    "            \"OH2\", #Tyrosine\n",
    "            \"SG\", #Cysteine\n",
    "            \"OD1\", #Aspartate\n",
    "            \"OD2\", #Aspartate\n",
    "            \"OE1\", #Glutamate\n",
    "            \"OE2\", #Glutamate \n",
    "            \"ND2\", #Asparagine\n",
    "            \"OD1\", #Asparagine\n",
    "            \"NE2\", #Glutamine\n",
    "            \"OE1\", #Glutamine\n",
    "            \"ND1\", #Histidine\n",
    "            \"NE2\", #Histidine\n",
    "            \"NZ\", #Lysine\n",
    "            \"NE\", #Arginine\n",
    "            \"NH1\", #Arginine\n",
    "            \"NH2\", #Arginine\n",
    "        }\n",
    "        if name in pol:\n",
    "            polar.append(atom_counter)\n",
    "        atom_counter += 1\n",
    "\n",
    "            \n",
    "alpha = []\n",
    "with open(pdb_path) as f:\n",
    "    atom_counter = 0\n",
    "    for line in f:\n",
    "        if not line.startswith(\"ATOM\"):\n",
    "            continue\n",
    "        name = line[12:16].strip()\n",
    "        if name == \"CA\":\n",
    "            alpha.append(atom_counter)\n",
    "        atom_counter += 1\n",
    "\n",
    "alphabeta = []\n",
    "with open(pdb_path) as f:\n",
    "    atom_counter = 0\n",
    "    for line in f:\n",
    "        if not line.startswith(\"ATOM\"):\n",
    "            continue\n",
    "        name = line[12:16].strip()\n",
    "        if name == \"CA\" or name == \"CB\":\n",
    "            alphabeta.append(atom_counter)\n",
    "        atom_counter += 1\n",
    "\n",
    "print(f'Backbone({len(backbone)}): {backbone}')\n",
    "print(f'ON({len(ON)}): {ON}')\n",
    "print(f'Polar Atoms ({len(polar)}): {polar}')\n",
    "print(f'Alpha C ({len(alpha)}): {alpha}')\n",
    "print(f'Alpha and Beta ({len(alphabeta)}): {alphabeta}')\n",
    "\n",
    "bonds = np.array([[backbone[i], backbone[i+1]] for i in range(len(backbone) - 1)])\n",
    "angles = np.array([[backbone[i], backbone[i+1], backbone[i+2]] for i in range(len(backbone) - 2)])\n",
    "dih = np.array([backbone[i:i+4] for i in range(len(backbone) - 3)])"
   ]
  },
  {
   "cell_type": "code",
   "execution_count": null,
   "id": "75ac1dd1-1ed1-48a8-b120-c833c56bf1c9",
   "metadata": {},
   "outputs": [],
   "source": [
    "feat = process_trajectory(\n",
    "    traj=tr,\n",
    "    conf=conf,\n",
    "    atom_selection=alpha,      # 'protein' | 'backbone' | 'CA' | lista indici\n",
    "    distance_mode=\"dense\",   # 'sparse' o 'dense'\n",
    "    density=2,                # only if sparse; 1..N\n",
    "    include_angles=True\n",
    ")"
   ]
  },
  {
   "cell_type": "code",
   "execution_count": null,
   "id": "f803d89e",
   "metadata": {},
   "outputs": [],
   "source": [
    "print(f\"feature_keys: {feat.keys()}, feat_distances_shape: {(feat['dists'].shape)}\")"
   ]
  },
  {
   "cell_type": "markdown",
   "id": "2ea7a498",
   "metadata": {},
   "source": [
    "## NN preprocessing"
   ]
  },
  {
   "cell_type": "code",
   "execution_count": null,
   "id": "013f3c79",
   "metadata": {
    "scrolled": true
   },
   "outputs": [],
   "source": [
    "# Uso:\n",
    "ds_train, ds_val, ds_test, ds_all, info = asmsa_datasets(feat['features_normalized'], train_size=70, val_size=15, batch_size=64, seed=42)"
   ]
  },
  {
   "cell_type": "markdown",
   "id": "15f1de9f",
   "metadata": {},
   "source": [
    "# AE"
   ]
  },
  {
   "cell_type": "code",
   "execution_count": null,
   "id": "b606e6a9",
   "metadata": {},
   "outputs": [],
   "source": [
    "autoencoder, encoder, decoder = asmsa_ae(\n",
    "    n_features=feat['features_normalized'].shape[1],\n",
    "    latent_dim=latent_dim)\n",
    "\n",
    "autoencoder.summary()\n"
   ]
  },
  {
   "cell_type": "code",
   "execution_count": null,
   "id": "8116a4d2",
   "metadata": {},
   "outputs": [],
   "source": [
    "nD = feat['n_distance_features']\n",
    "nA = feat['n_angle_features']\n",
    "\n",
    "dist_slice = slice(0, nD)\n",
    "ang_slice  = slice(nD, nD + nA)\n"
   ]
  },
  {
   "cell_type": "markdown",
   "id": "3c722364",
   "metadata": {},
   "source": [
    "## Train"
   ]
  },
  {
   "cell_type": "code",
   "execution_count": null,
   "id": "ec188c65",
   "metadata": {},
   "outputs": [],
   "source": [
    "log_dir = \"logs/autoencoder/\" + datetime.datetime.now().strftime(\"%Y%m%d-%H%M%S\")\n",
    "cb = callbacks(log_dir, latent_dim, monitor=\"val_loss\", model=nn_model)  \n",
    "\n",
    "learning_rate = 1e-4\n",
    "optimizer = tf.keras.optimizers.AdamW(\n",
    "    learning_rate=learning_rate,\n",
    "    weight_decay=1e-5, \n",
    "    beta_1=0.9,\n",
    "    beta_2=0.999\n",
    ")\n",
    "\n",
    "# Assuming asmsa_ae function exists\n",
    "ae, encoder, decoder = asmsa_ae(\n",
    "    n_features=feat['features_normalized'].shape[1],\n",
    "    latent_dim=latent_dim\n",
    ")\n",
    "# Compilo l'autoencoder con la loss personalizzata\n",
    "ae.compile(optimizer=optimizer,\n",
    "           loss=asmsa_ae_loss(nD,nA),\n",
    "           )\n"
   ]
  },
  {
   "cell_type": "markdown",
   "id": "4528c260",
   "metadata": {},
   "source": [
    "tensorboard --logdir logs/autoencoder --host localhost --port 6006"
   ]
  },
  {
   "cell_type": "code",
   "execution_count": null,
   "id": "47361719",
   "metadata": {},
   "outputs": [],
   "source": [
    "ae.fit(ds_train,epochs=500,validation_data=ds_val,callbacks=cb)"
   ]
  },
  {
   "cell_type": "code",
   "execution_count": null,
   "id": "e902b3cf",
   "metadata": {},
   "outputs": [],
   "source": [
    "src = f\"ae_{latent_dim}d.keras\"\n",
    "dest = \"/home/tedeschg/prj/ASMSA/mydev/models/\"\n",
    "\n",
    "!mv {src} {dest}"
   ]
  },
  {
   "cell_type": "markdown",
   "id": "ecc5dd8a",
   "metadata": {},
   "source": [
    "# Decode and visualize"
   ]
  },
  {
   "cell_type": "code",
   "execution_count": null,
   "id": "15a36f68-4599-4f52-aca9-b3f5bed65c39",
   "metadata": {},
   "outputs": [],
   "source": [
    "path = f\"/home/tedeschg/prj/ASMSA/mydev/models/ae_{latent_dim}d.keras\"\n",
    "\n",
    "autoencoder = load_model(\n",
    "    path,\n",
    "    custom_objects={\"recon_loss\": asmsa_ae_loss(nD, nA)}\n",
    ")\n",
    "\n",
    "encoder = autoencoder.get_layer(\"encoder\")\n",
    "decoder = autoencoder.get_layer(\"decoder\")\n"
   ]
  },
  {
   "cell_type": "code",
   "execution_count": null,
   "id": "84bc94f6-87d8-4668-a7e8-8e77e0e74e37",
   "metadata": {},
   "outputs": [],
   "source": [
    "for batch_x, _ in ds_test.take(1):\n",
    "    sample_x = batch_x[30]  \n",
    "    break\n",
    "    \n",
    "sample_x_batch = tf.expand_dims(sample_x, axis=0)\n",
    "test = encoder.predict(sample_x_batch)\n",
    "\n",
    "test"
   ]
  },
  {
   "cell_type": "code",
   "execution_count": null,
   "id": "0de13680-ffc2-4c95-acb8-3098e1ddd51d",
   "metadata": {},
   "outputs": [],
   "source": [
    "target = np.array([0, 0]).reshape(1, latent_dim)\n",
    "bb_indices = traj.topology.select('backbone')\n",
    "ca_indices = traj.topology.select('name CA')\n",
    "emb, sample = plot_latent_space(latent_dim, encoder, ds_all, conf, tr, test, bb_indices, model=nn_model, exact=True)"
   ]
  },
  {
   "cell_type": "code",
   "execution_count": null,
   "id": "82f2019c-5f03-4026-905a-dc540689abb5",
   "metadata": {},
   "outputs": [],
   "source": [
    "rms_ref = md.load_pdb(conf)\n",
    "rms_ref_bb  = rms_ref.atom_slice(bb_indices)\n",
    "rms_ref_ca  = rms_ref.atom_slice(ca_indices)\n",
    "rms_tr = md.load_xtc(tr, top=rms_ref)\n",
    "rmsd = md.rmsd(rms_tr, rms_ref)"
   ]
  },
  {
   "cell_type": "code",
   "execution_count": null,
   "id": "d1941133-5a13-4f91-9460-bb803001b4bd",
   "metadata": {},
   "outputs": [],
   "source": [
    "'''\n",
    "s = decoder.predict(sample)\n",
    "\n",
    "coords_size = feat['coords'].shape[1]  # dimensione delle coordinate\n",
    "angles_size = s.shape[1] - coords_size  # dimensione degli angoli\n",
    "\n",
    "# Separa coordinate e angoli\n",
    "s_coords = s[:, :coords_size]\n",
    "s_angles = s[:, coords_size:]\n",
    "\n",
    "# Inverti le trasformazioni separatamente\n",
    "coords_orig = feat['scaler_coords'].inverse_transform(s_coords)\n",
    "angles_orig = feat['scaler_angles'].inverse_transform(s_angles)\n",
    "\n",
    "# Prendi solo le coordinate per la ricostruzione\n",
    "coords_flat = coords_orig[0, :]                    \n",
    "coords_p = coords_flat.reshape((n_p, 3))\n",
    "mask_bb = np.isin(p_indices, bb_indices)\n",
    "coords_bb = coords_p[mask_bb] \n",
    "coords_ca = coords_bb[1::4] \n",
    "\n",
    "new_traj = md.Trajectory(\n",
    "    xyz=np.array([coords_bb]),     \n",
    "    topology=rms_ref_bb.topology     \n",
    ")\n",
    "\n",
    "new_traj.save_pdb(\"./models/ae_reconstructed.pdb\")\n",
    "'''"
   ]
  },
  {
   "cell_type": "code",
   "execution_count": null,
   "id": "c1eea108-65c5-4ba9-966d-5d285a102513",
   "metadata": {},
   "outputs": [],
   "source": [
    "'''\n",
    "view = nv.show_file('./models/ae_reconstructed.pdb')\n",
    "view.clear_representations()\n",
    "view.add_line() \n",
    "#view.add_cartoon()\n",
    "view.center()\n",
    "view\n",
    "'''"
   ]
  },
  {
   "cell_type": "code",
   "execution_count": null,
   "id": "d213e684",
   "metadata": {},
   "outputs": [],
   "source": [
    "print(f'distances feat: {nD}, angles feat: {nA}')"
   ]
  },
  {
   "cell_type": "code",
   "execution_count": null,
   "id": "14224cbb",
   "metadata": {},
   "outputs": [],
   "source": [
    "s = decoder.predict(sample)\n",
    "orig = sample_x.numpy() \n",
    "recon = s[0]"
   ]
  },
  {
   "cell_type": "code",
   "execution_count": null,
   "id": "62d10c19",
   "metadata": {},
   "outputs": [],
   "source": [
    "n_phi = 0 if feat['raw_angles']['phi'] is None else feat['raw_angles']['phi'].shape[1]\n",
    "n_psi = 0 if feat['raw_angles']['psi'] is None else feat['raw_angles']['psi'].shape[1]\n",
    "\n",
    "fig, metrics = analyze_reconstruction_with_sincos_blocks(\n",
    "    orig, recon,\n",
    "    nD=nD, n_phi=n_phi, n_psi=n_psi,\n",
    "    deltaD=0.1, deltaA=0.5,\n",
    "    title_prefix=\"Test \"\n",
    ")\n",
    "\n",
    "plt.show()\n",
    "print(metrics)\n"
   ]
  },
  {
   "cell_type": "code",
   "execution_count": null,
   "id": "1434187c",
   "metadata": {},
   "outputs": [],
   "source": [
    "fig, sec_stats = plot_section_errors(\n",
    "    orig, recon,\n",
    "    nD=nD, n_phi=n_phi, n_psi=n_psi,\n",
    "    n_sections=20,     # divido in 5 blocchi\n",
    "    kind=\"distance\",  # oppure \"angle\"\n",
    "    title=\"Errors x section\"\n",
    ")\n",
    "\n",
    "plt.show()\n",
    "print(sec_stats)"
   ]
  },
  {
   "cell_type": "code",
   "execution_count": null,
   "id": "a15eaebe",
   "metadata": {},
   "outputs": [],
   "source": [
    "fig, sec_stats = plot_section_errors(\n",
    "    orig, recon,\n",
    "    nD=nD, n_phi=n_phi, n_psi=n_psi,\n",
    "    n_sections=19,     # divido in 5 blocchi\n",
    "    kind=\"angle\",  \n",
    "    title=\"Errors x section\"\n",
    ")\n",
    "\n",
    "plt.show()\n",
    "print(sec_stats)"
   ]
  }
 ],
 "metadata": {
  "kernelspec": {
   "display_name": "asmsa",
   "language": "python",
   "name": "python3"
  },
  "language_info": {
   "codemirror_mode": {
    "name": "ipython",
    "version": 3
   },
   "file_extension": ".py",
   "mimetype": "text/x-python",
   "name": "python",
   "nbconvert_exporter": "python",
   "pygments_lexer": "ipython3",
   "version": "3.10.11"
  }
 },
 "nbformat": 4,
 "nbformat_minor": 5
}
