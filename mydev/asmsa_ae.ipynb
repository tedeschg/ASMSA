{
 "cells": [
  {
   "cell_type": "markdown",
   "id": "5c7a3cf0",
   "metadata": {},
   "source": [
    "# Preprocessing"
   ]
  },
  {
   "cell_type": "markdown",
   "id": "1457ea1f",
   "metadata": {},
   "source": [
    "## Featurizing"
   ]
  },
  {
   "cell_type": "code",
   "execution_count": null,
   "id": "c5b2509c",
   "metadata": {},
   "outputs": [],
   "source": [
    "import mdtraj as md\n",
    "import numpy as np\n",
    "import datetime\n",
    "import tensorflow as tf\n",
    "import nglview as nv\n",
    "\n",
    "\n",
    "from sklearn.preprocessing import StandardScaler, MinMaxScaler\n",
    "from tensorflow.keras.callbacks import EarlyStopping, TensorBoard\n",
    "\n",
    "from utils import split_dataset\n",
    "from ae import asmsa_ae, compile_asmsa_ae\n",
    "\n"
   ]
  },
  {
   "cell_type": "code",
   "execution_count": null,
   "id": "172d539d",
   "metadata": {},
   "outputs": [],
   "source": [
    "tr = \"trpcage_ds_nH.xtc\"\n",
    "conf = \"trpcage_npt400_nH.pdb\"\n",
    "\n",
    "traj = md.load_xtc(tr, top=conf)\n",
    "backbone_atoms = traj.topology.select('backbone')\n",
    "traj.superpose(traj, 0, atom_indices=backbone_atoms)\n"
   ]
  },
  {
   "cell_type": "code",
   "execution_count": null,
   "id": "980dcc70",
   "metadata": {},
   "outputs": [],
   "source": [
    "view = nv.show_mdtraj(traj)\n",
    "\n",
    "view.add_representation('line', selection='protein')\n",
    "view"
   ]
  },
  {
   "cell_type": "code",
   "execution_count": null,
   "id": "88ba69a4",
   "metadata": {},
   "outputs": [],
   "source": [
    "n_frames, n_atoms = traj.n_frames, traj.n_atoms #50001, 144"
   ]
  },
  {
   "cell_type": "code",
   "execution_count": null,
   "id": "ffb9bc58",
   "metadata": {},
   "outputs": [],
   "source": [
    "p_indices = traj.topology.select(\"protein\")\n",
    "n_p = len(p_indices)\n",
    "\n",
    "bb_indices = traj.topology.select(\"backbone\")\n",
    "n_bb = len(bb_indices)\n",
    "\n",
    "ca_indices = traj.topology.select(\"name CA\")\n",
    "pairs = np.array([(i, j) for idx,i in enumerate(ca_indices) \n",
    "                          for j in ca_indices[idx+1:]])\n",
    "\n",
    "coords_bb = traj.xyz[:,bb_indices,:]\n",
    "#coords = traj.xyz.reshape(n_frames, n_atoms * 3) #from (n_frame, n_atoms, 3) to (n_frame, n_atoms*3) \n",
    "coords = coords_bb.reshape(n_frames, -1)\n",
    "\n",
    "dists = md.compute_distances(traj, pairs) \n",
    "\n",
    "bonds = list(traj.topology.bonds)\n",
    "bond_pairs = [[b.atom1.index, b.atom2.index] for b in bonds]\n",
    "bond_lengths = md.compute_distances(traj, bond_pairs)\n",
    "\n",
    "\n",
    "phi_angles = md.compute_phi(traj)[1]\n",
    "psi_angles = md.compute_psi(traj)[1]\n",
    "phi_sin = np.sin(phi_angles)\n",
    "phi_cos = np.cos(phi_angles)  \n",
    "psi_sin = np.sin(psi_angles)\n",
    "psi_cos = np.cos(psi_angles)\n",
    "\n",
    "# Side chain dihedrals with sin/cos\n",
    "chi1_angles = md.compute_chi1(traj)[1]\n",
    "chi2_angles = md.compute_chi2(traj)[1]\n",
    "chi1_sin = np.sin(chi1_angles)\n",
    "chi1_cos = np.cos(chi1_angles)\n",
    "chi2_sin = np.sin(chi2_angles) \n",
    "chi2_cos = np.cos(chi2_angles)\n"
   ]
  },
  {
   "cell_type": "code",
   "execution_count": null,
   "id": "d20e6fbd",
   "metadata": {},
   "outputs": [],
   "source": [
    "feat = np.concatenate([coords,phi_sin,phi_cos,psi_sin,psi_cos,chi1_sin,chi1_cos,chi2_sin,chi2_cos], axis=1)"
   ]
  },
  {
   "cell_type": "code",
   "execution_count": null,
   "id": "0a207f72",
   "metadata": {},
   "outputs": [],
   "source": [
    "scaler = StandardScaler()\n",
    "features_normalized = scaler.fit_transform(feat)\n",
    "features_normalized.shape"
   ]
  },
  {
   "cell_type": "markdown",
   "id": "2ea7a498",
   "metadata": {},
   "source": [
    "## NN preprocessing"
   ]
  },
  {
   "cell_type": "code",
   "execution_count": null,
   "id": "013f3c79",
   "metadata": {
    "scrolled": true
   },
   "outputs": [],
   "source": [
    "# Uso:\n",
    "ds_train, ds_val, ds_test, ds_all = split_dataset(features_normalized, train_size=70, val_size=15, batch_size=64, seed=42)\n",
    "\n",
    "# Opzionale: Data Augmentation per autoencoder\n",
    "def add_data_augmentation(ds_train, noise_factor=0.1):\n",
    "    \"\"\"\n",
    "    Aggiunge rumore ai dati di input mantenendo il target pulito\n",
    "    \"\"\"\n",
    "    def add_noise(x, y):\n",
    "        noise = tf.random.normal(tf.shape(x), stddev=noise_factor)\n",
    "        x_noisy = x + noise\n",
    "        x_noisy = tf.clip_by_value(x_noisy, 0.0, 1.0)  # Assumendo dati normalizzati [0,1]\n",
    "        return x_noisy, y  # Input rumoroso, target pulito\n",
    "    \n",
    "    return ds_train.map(add_noise, num_parallel_calls=tf.data.AUTOTUNE)\n",
    "\n",
    "# Per usare data augmentation:\n",
    "# ds_train = add_data_augmentation(ds_train, noise_factor=0.05)"
   ]
  },
  {
   "cell_type": "markdown",
   "id": "15f1de9f",
   "metadata": {},
   "source": [
    "# AE"
   ]
  },
  {
   "cell_type": "code",
   "execution_count": null,
   "id": "49748932",
   "metadata": {},
   "outputs": [],
   "source": [
    "'''\n",
    "\n",
    "Batch Norm, nel caso, va prima della layer activation)\n",
    "'''"
   ]
  },
  {
   "cell_type": "code",
   "execution_count": null,
   "id": "b606e6a9",
   "metadata": {},
   "outputs": [],
   "source": [
    "latent_dim = 2\n",
    "\n",
    "autoencoder, encoder, decoder = asmsa_ae(\n",
    "    n_features=feat.shape[1],\n",
    "    latent_dim=latent_dim)\n",
    "\n",
    "\n",
    "autoencoder = compile_asmsa_ae(autoencoder)\n",
    "\n",
    "\n",
    "autoencoder.summary()\n"
   ]
  },
  {
   "cell_type": "code",
   "execution_count": null,
   "id": "ec188c65",
   "metadata": {},
   "outputs": [],
   "source": [
    "log_dir = \"logs/autoencoder/\" + datetime.datetime.now().strftime(\"%Y%m%d-%H%M%S\")\n",
    "\n",
    "\n",
    "callbacks = [\n",
    "    tf.keras.callbacks.TensorBoard(\n",
    "    log_dir=log_dir,\n",
    "    histogram_freq=1,        # salva istogrammi dei pesi ogni epoca\n",
    "    write_graph=True,        # salva anche il grafo del modello\n",
    "    update_freq='epoch',     # ogni epoca\n",
    "    ),\n",
    "\n",
    "    tf.keras.callbacks.EarlyStopping(\n",
    "        monitor=\"val_loss\",\n",
    "        patience=15,  # più pazienza con lr scheduling\n",
    "        min_delta=1e-5,  # soglia più stretta\n",
    "        restore_best_weights=True,\n",
    "        verbose=1,\n",
    "        mode='min'\n",
    "    ),\n",
    "\n",
    "    tf.keras.callbacks.ReduceLROnPlateau(\n",
    "        monitor='val_loss',\n",
    "        factor=0.5,\n",
    "        patience=7,\n",
    "        min_lr=1e-7,\n",
    "        verbose=1\n",
    "    ),\n",
    "\n",
    "    tf.keras.callbacks.ModelCheckpoint(\n",
    "        filepath=f'best_autoencoder_{latent_dim}d.keras',\n",
    "        monitor='val_loss',\n",
    "        save_best_only=True,\n",
    "        save_weights_only=False,\n",
    "        verbose=1\n",
    "    )\n",
    "    \n",
    "]"
   ]
  },
  {
   "cell_type": "markdown",
   "id": "4528c260",
   "metadata": {},
   "source": [
    "tensorboard --logdir logs/autoencoder --host localhost --port 6006"
   ]
  },
  {
   "cell_type": "code",
   "execution_count": null,
   "id": "47361719",
   "metadata": {},
   "outputs": [],
   "source": [
    "autoencoder.fit(ds_train,epochs=500,validation_data=ds_val,callbacks=callbacks)"
   ]
  },
  {
   "cell_type": "code",
   "execution_count": null,
   "id": "ef0a036b-15cd-493c-be9d-ef44507f0031",
   "metadata": {},
   "outputs": [],
   "source": [
    "from tensorflow.keras.models import load_model\n",
    "import numpy as np\n",
    "autoencoder = load_model(f'best_autoencoder_{latent_dim}d.keras')\n",
    "encoder = autoencoder.get_layer(\"encoder\")\n",
    "decoder = autoencoder.get_layer(\"decoder\")\n",
    "\n",
    "encoder.save(f\"best_encoder_{latent_dim}d.keras\")\n",
    "decoder.save(f\"best_decoder_{latent_dim}d.keras\")\n"
   ]
  },
  {
   "cell_type": "code",
   "execution_count": null,
   "id": "7cbcf337-82ff-4112-856b-688415f596f9",
   "metadata": {},
   "outputs": [],
   "source": [
    "from vae import *"
   ]
  },
  {
   "cell_type": "code",
   "execution_count": null,
   "id": "08e852c0-d9de-421d-9f53-8b5c582fc467",
   "metadata": {},
   "outputs": [],
   "source": [
    "# Example usage:\n",
    "n_features = feat.shape[1]\n",
    "vae, enc, dec = build_asmssa_vae(n_features, latent_dim=2)\n",
    "vae.compile(optimizer=tf.keras.optimizers.AdamW())\n",
    "vae.fit(ds_train, epochs=500, validation_data=ds_val, callbacks=callbacks)"
   ]
  },
  {
   "cell_type": "markdown",
   "id": "ecc5dd8a",
   "metadata": {},
   "source": [
    "# Decode and visualize"
   ]
  },
  {
   "cell_type": "code",
   "execution_count": null,
   "id": "15a36f68-4599-4f52-aca9-b3f5bed65c39",
   "metadata": {},
   "outputs": [],
   "source": [
    "autoencoder = load_model(f'best_autoencoder_2d.keras')\n",
    "encoder = autoencoder.get_layer(\"encoder\")\n",
    "decoder = autoencoder.get_layer(\"decoder\")"
   ]
  },
  {
   "cell_type": "code",
   "execution_count": null,
   "id": "6a73e3af-d99f-4884-bf9d-3887b5a60ade",
   "metadata": {},
   "outputs": [],
   "source": [
    "import matplotlib.pyplot as plt\n",
    "def plot_latent_space(latent_dim, encoder, dataset, conf, target, cmap='rainbow', figsize=(8,8)):\n",
    "    \"\"\"\n",
    "    Computes latent embeddings and plots them in 2D.\n",
    "\n",
    "    Args:\n",
    "        encoder: the encoder model returning [z_mean, z_log_var, z]\n",
    "        dataset: input data or tf.data.Dataset yielding inputs (and optionally labels)\n",
    "        labels: optional array-like of same length as dataset for coloring\n",
    "        cmap: matplotlib colormap\n",
    "        figsize: tuple for figure size\n",
    "    \"\"\"\n",
    "    # Get embeddings\n",
    "    results = encoder.predict(dataset)\n",
    "    # results = [z_mean, z_log_var, z]\n",
    "    emb = np.array(results)  # results[2] use sampled z; shape (N,2)\n",
    "\n",
    "    rms_ref = md.load_pdb(conf)\n",
    "    rms_ref_bb   = rms_ref.atom_slice(bb_indices)\n",
    "    rms_tr = md.load_xtc(tr, top=rms_ref)\n",
    "    rmsd = md.rmsd(rms_tr, rms_ref)\n",
    "\n",
    "    #z = np.random.normal(loc=0.0, scale=1.0, size=(latent_dim,))\n",
    "\n",
    "    dists = np.linalg.norm(emb - target, axis=1)\n",
    "    # 4a. Se vuoi, ad esempio, le K righe più vicine:\n",
    "    K = 1\n",
    "    idx_closest = np.argsort(dists)[:K]\n",
    "    sample = emb[idx_closest].reshape(1, latent_dim)\n",
    "    \n",
    "    plt.figure(figsize=figsize)\n",
    "\n",
    "    plt.scatter(emb[:,0], emb[:,1], c=rmsd,s=0.5, cmap=cmap)\n",
    "    plt.scatter(sample[:,0], sample[:,1], marker=\"X\", c=\"Black\")\n",
    "\n",
    "    plt.show()\n",
    "    return emb, sample"
   ]
  },
  {
   "cell_type": "code",
   "execution_count": null,
   "id": "82f2019c-5f03-4026-905a-dc540689abb5",
   "metadata": {},
   "outputs": [],
   "source": [
    "latent_dim = 2\n",
    "target = np.array([2,0]).reshape(1, 2)\n",
    "emb, sample = plot_latent_space(latent_dim, encoder, ds_all, conf, target)"
   ]
  },
  {
   "cell_type": "code",
   "execution_count": null,
   "id": "d1941133-5a13-4f91-9460-bb803001b4bd",
   "metadata": {},
   "outputs": [],
   "source": [
    "emb.shape"
   ]
  },
  {
   "cell_type": "code",
   "execution_count": null,
   "id": "ff0ab5fd",
   "metadata": {},
   "outputs": [],
   "source": [
    "s = decoder.predict(sample)\n",
    "s_orig = scaler.inverse_transform(s)\n",
    "\n",
    "coords_flat = s_orig[0, :coords.shape[1]]                    \n",
    "coords_recons = coords_flat.reshape((n_bb, 3))\n",
    "\n",
    "new_traj = md.Trajectory(\n",
    "    xyz=np.array([coords_recons]),     \n",
    "    topology=rms_ref_bb.topology     \n",
    ")\n",
    "\n",
    "\n",
    "new_traj.save_pdb(\"reconstructed.pdb\")\n",
    "\n",
    "import nglview as nv\n",
    "\n",
    "view = nv.show_file('reconstructed.pdb')\n",
    "view.clear_representations()\n",
    "view.add_line() \n",
    "#view.add_cartoon()\n",
    "view.center()\n",
    "view"
   ]
  },
  {
   "cell_type": "code",
   "execution_count": null,
   "id": "ef7902cc-3282-4fd2-bb45-7176211186a1",
   "metadata": {},
   "outputs": [],
   "source": []
  },
  {
   "cell_type": "code",
   "execution_count": null,
   "id": "82be6feb-d0a6-4ddf-904b-046708791eda",
   "metadata": {},
   "outputs": [],
   "source": []
  }
 ],
 "metadata": {
  "kernelspec": {
   "display_name": "Python 3 (ipykernel)",
   "language": "python",
   "name": "python3"
  },
  "language_info": {
   "codemirror_mode": {
    "name": "ipython",
    "version": 3
   },
   "file_extension": ".py",
   "mimetype": "text/x-python",
   "name": "python",
   "nbconvert_exporter": "python",
   "pygments_lexer": "ipython3",
   "version": "3.10.11"
  }
 },
 "nbformat": 4,
 "nbformat_minor": 5
}
