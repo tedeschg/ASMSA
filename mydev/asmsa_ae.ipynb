{
 "cells": [
  {
   "cell_type": "markdown",
   "id": "5c7a3cf0",
   "metadata": {},
   "source": [
    "# Preprocessing"
   ]
  },
  {
   "cell_type": "markdown",
   "id": "1457ea1f",
   "metadata": {},
   "source": [
    "## Featurizing"
   ]
  },
  {
   "cell_type": "code",
   "execution_count": null,
   "id": "c5b2509c",
   "metadata": {},
   "outputs": [],
   "source": [
    "import mdtraj as md\n",
    "import numpy as np\n",
    "import datetime\n",
    "import tensorflow as tf\n",
    "import nglview as nv\n",
    "import os, sys\n",
    "\n",
    "\n",
    "from sklearn.preprocessing import StandardScaler, MinMaxScaler\n",
    "from tensorflow.keras.models import load_model\n",
    "\n",
    "%cd /home/jovyan/ASMSA/mydev\n",
    "\n",
    "\n",
    "repo_dir = os.getcwd()   \n",
    "if repo_dir not in sys.path:\n",
    "    sys.path.insert(0, repo_dir)\n",
    "\n",
    "from src.utils import split_dataset, plot_latent_space, process_trajectory\n",
    "from src.asmsa_callbacks import callbacks\n",
    "from src.ae import asmsa_ae\n",
    "\n",
    "nn_model = 'ae'\n",
    "latent_dim = 2"
   ]
  },
  {
   "cell_type": "code",
   "execution_count": null,
   "id": "172d539d",
   "metadata": {},
   "outputs": [],
   "source": [
    "tr = \"trpcage_ds_nH.xtc\"\n",
    "conf = \"trpcage_npt400_nH.pdb\"\n",
    "\n",
    "traj = md.load_xtc(tr, top=conf)\n",
    "backbone_atoms = traj.topology.select('backbone')\n",
    "traj.superpose(traj, 0, atom_indices=backbone_atoms)\n"
   ]
  },
  {
   "cell_type": "code",
   "execution_count": null,
   "id": "b4ad508b-cb4f-4f1c-8a24-b7d58823f186",
   "metadata": {},
   "outputs": [],
   "source": [
    "'''\n",
    "import mdtraj as md\n",
    "import numpy as np\n",
    "from sklearn.utils import resample\n",
    "\n",
    "# 1. Carica topologia e traiettoria\n",
    "traj = md.load_xtc('trpcage_ds_nH.xtc', top='trpcage_npt400_nH.pdb')\n",
    "\n",
    "# 2. Definisci la struttura di riferimento folded (frame 0)\n",
    "ref = md.load_pdb('trpcage_npt400_nH.pdb')\n",
    "atom_sel = traj.topology.select('protein')\n",
    "\n",
    "# 3. Calcola l’RMSD di ogni frame rispetto al reference (in nm)\n",
    "rmsd = md.rmsd(traj, ref, frame=0, atom_indices=atom_sel)\n",
    "\n",
    "# 4. Imposta le soglie (in nm)\n",
    "t1 = 0.5   # fino a 0.5 nm → folded\n",
    "t2 = 1.0   # da 0.5 a 1.0 nm → semi-unfolded; >1.0 nm → unfolded\n",
    "\n",
    "# 5. Crea le etichette (0=folded, 1=semi-unfolded, 2=unfolded)\n",
    "labels = np.empty_like(rmsd, dtype=int)\n",
    "labels[rmsd <= t1]                  = 0\n",
    "labels[(rmsd >  t1) & (rmsd <= t2)] = 1\n",
    "labels[rmsd >  t2]                  = 2\n",
    "\n",
    "# 6. Raggruppa indici per ciascuna classe\n",
    "idx0 = np.where(labels == 0)[0]  # folded\n",
    "idx1 = np.where(labels == 1)[0]  # semi-unfolded\n",
    "idx2 = np.where(labels == 2)[0]  # unfolded\n",
    "\n",
    "print(f\"Counts before balancing: folded={len(idx0)}, semi-unfolded={len(idx1)}, unfolded={len(idx2)}\")\n",
    "\n",
    "# 7. Bilancia con undersampling alla classe meno numerosa\n",
    "n_target = min(len(idx0), len(idx1), len(idx2))\n",
    "idx0_bal = resample(idx0, replace=False, n_samples=n_target, random_state=42)\n",
    "idx1_bal = resample(idx1, replace=False, n_samples=n_target, random_state=42)\n",
    "idx2_bal = resample(idx2, replace=False, n_samples=n_target, random_state=42)\n",
    "\n",
    "# 8. Combina, ordina e crea la traiettoria bilanciata\n",
    "idx_balanced = np.sort(np.concatenate([idx0_bal, idx1_bal, idx2_bal]))\n",
    "balanced = traj.slice(idx_balanced)\n",
    "\n",
    "# 9. Salva il nuovo XTC bilanciato\n",
    "balanced.save_xtc('traj_balanced_3class_0.5_1.0nm.xtc')\n",
    "\n",
    "print(f\"Balanced dataset: {n_target} frames per classe, totale {len(idx_balanced)} frames.\")\n",
    "\n",
    "tr = \"traj_balanced_3class_0.5_1.0nm.xtc\"\n",
    "conf = \"trpcage_npt400_nH.pdb\"\n",
    "\n",
    "traj = md.load_xtc(tr, top=conf)\n",
    "backbone_atoms = traj.topology.select('backbone')\n",
    "traj.superpose(traj, 0, atom_indices=backbone_atoms)\n",
    "'''"
   ]
  },
  {
   "cell_type": "code",
   "execution_count": null,
   "id": "980dcc70",
   "metadata": {},
   "outputs": [],
   "source": [
    "view = nv.show_mdtraj(traj)\n",
    "\n",
    "view.add_representation('line', selection='protein')\n",
    "view"
   ]
  },
  {
   "cell_type": "code",
   "execution_count": null,
   "id": "75ac1dd1-1ed1-48a8-b120-c833c56bf1c9",
   "metadata": {},
   "outputs": [],
   "source": [
    "ca_indices, n_ca, bb_indices, n_bb, features_normalized, scaler, coords = process_trajectory(tr, conf)\n",
    "features_normalized.shape"
   ]
  },
  {
   "cell_type": "markdown",
   "id": "2ea7a498",
   "metadata": {},
   "source": [
    "## NN preprocessing"
   ]
  },
  {
   "cell_type": "code",
   "execution_count": null,
   "id": "013f3c79",
   "metadata": {
    "scrolled": true
   },
   "outputs": [],
   "source": [
    "# Uso:\n",
    "ds_train, ds_val, ds_test, ds_all = split_dataset(features_normalized, train_size=70, val_size=15, batch_size=64, seed=42)"
   ]
  },
  {
   "cell_type": "markdown",
   "id": "15f1de9f",
   "metadata": {},
   "source": [
    "# AE"
   ]
  },
  {
   "cell_type": "code",
   "execution_count": null,
   "id": "49748932",
   "metadata": {},
   "outputs": [],
   "source": [
    "'''\n",
    "Batch Norm, nel caso, va prima della layer activation)\n",
    "'''"
   ]
  },
  {
   "cell_type": "code",
   "execution_count": null,
   "id": "b606e6a9",
   "metadata": {},
   "outputs": [],
   "source": [
    "autoencoder, encoder, decoder = asmsa_ae(\n",
    "    n_features=features_normalized.shape[1],\n",
    "    latent_dim=latent_dim)\n",
    "\n",
    "autoencoder.summary()\n"
   ]
  },
  {
   "cell_type": "code",
   "execution_count": null,
   "id": "ec188c65",
   "metadata": {},
   "outputs": [],
   "source": [
    "log_dir = \"logs/autoencoder/\" + datetime.datetime.now().strftime(\"%Y%m%d-%H%M%S\")\n",
    "cb = callbacks(log_dir, latent_dim, monitor=\"val_loss\", model=nn_model)  # Uncomment when callbacks is defined\n",
    "\n",
    "learning_rate = 1e-4\n",
    "optimizer = tf.keras.optimizers.AdamW(\n",
    "    learning_rate=learning_rate,\n",
    "    weight_decay=1e-5, \n",
    "    beta_1=0.9,\n",
    "    beta_2=0.999\n",
    ")\n",
    "\n",
    "# Assuming asmsa_ae function exists\n",
    "ae, encoder, decoder = asmsa_ae(\n",
    "    n_features=features_normalized.shape[1],\n",
    "    latent_dim=latent_dim\n",
    ")\n",
    "\n",
    "mse_fn = tf.keras.losses.MeanSquaredError()\n",
    "mae_fn = tf.keras.losses.MeanAbsoluteError()\n",
    "\n",
    "# Definisco la loss ricostruzione pesata\n",
    "def recon_loss(y_true, y_pred):\n",
    "    mse = mse_fn(y_true, y_pred)\n",
    "    mae = mae_fn(y_true, y_pred)\n",
    "    return 0.8 * mse + 0.2 * mae\n",
    "\n",
    "# Compilo l'autoencoder con la loss personalizzata\n",
    "ae.compile(optimizer=optimizer,\n",
    "           loss=recon_loss)\n"
   ]
  },
  {
   "cell_type": "markdown",
   "id": "4528c260",
   "metadata": {},
   "source": [
    "tensorboard --logdir logs/autoencoder --host localhost --port 6006"
   ]
  },
  {
   "cell_type": "code",
   "execution_count": null,
   "id": "47361719",
   "metadata": {},
   "outputs": [],
   "source": [
    "ae.fit(ds_train,epochs=200,validation_data=ds_val,callbacks=cb, shuffle=True)"
   ]
  },
  {
   "cell_type": "code",
   "execution_count": null,
   "id": "e902b3cf",
   "metadata": {},
   "outputs": [],
   "source": [
    "src = f\"ae_{latent_dim}d.keras\"\n",
    "dest = \"/home/tedeschg/prj/ASMSA/mydev/models/\"\n",
    "\n",
    "!mv {src} {dest}"
   ]
  },
  {
   "cell_type": "markdown",
   "id": "ecc5dd8a",
   "metadata": {},
   "source": [
    "# Decode and visualize"
   ]
  },
  {
   "cell_type": "code",
   "execution_count": null,
   "id": "15a36f68-4599-4f52-aca9-b3f5bed65c39",
   "metadata": {},
   "outputs": [],
   "source": [
    "path = f\"/home/tedeschg/prj/ASMSA/mydev/models/ae_{latent_dim}d.keras\"\n",
    "\n",
    "autoencoder = load_model(\n",
    "    path,\n",
    "    custom_objects={\"recon_loss\": recon_loss}\n",
    ")\n",
    "\n",
    "encoder = autoencoder.get_layer(\"encoder\")\n",
    "decoder = autoencoder.get_layer(\"decoder\")\n"
   ]
  },
  {
   "cell_type": "code",
   "execution_count": null,
   "id": "84bc94f6-87d8-4668-a7e8-8e77e0e74e37",
   "metadata": {},
   "outputs": [],
   "source": [
    "for batch_x, _ in ds_test.take(1):\n",
    "    sample_x = batch_x[30]  \n",
    "    break\n",
    "    \n",
    "sample_x_batch = tf.expand_dims(sample_x, axis=0)\n",
    "test = encoder.predict(sample_x_batch)\n",
    "\n",
    "test"
   ]
  },
  {
   "cell_type": "code",
   "execution_count": null,
   "id": "0de13680-ffc2-4c95-acb8-3098e1ddd51d",
   "metadata": {},
   "outputs": [],
   "source": [
    "target = np.array([7.5, -10]).reshape(1, latent_dim)\n",
    "emb, sample = plot_latent_space(latent_dim, encoder, ds_all, conf, tr, test, bb_indices, model=nn_model, exact=True)"
   ]
  },
  {
   "cell_type": "code",
   "execution_count": null,
   "id": "82f2019c-5f03-4026-905a-dc540689abb5",
   "metadata": {},
   "outputs": [],
   "source": [
    "rms_ref = md.load_pdb(conf)\n",
    "rms_ref_bb  = rms_ref.atom_slice(bb_indices)\n",
    "rms_ref_ca  = rms_ref.atom_slice(ca_indices)\n",
    "rms_tr = md.load_xtc(tr, top=rms_ref)\n",
    "rmsd = md.rmsd(rms_tr, rms_ref)"
   ]
  },
  {
   "cell_type": "code",
   "execution_count": null,
   "id": "24216982",
   "metadata": {},
   "outputs": [],
   "source": [
    "p_indices = traj.topology.select(\"protein\")\n",
    "n_p = len(p_indices)"
   ]
  },
  {
   "cell_type": "code",
   "execution_count": null,
   "id": "d1941133-5a13-4f91-9460-bb803001b4bd",
   "metadata": {},
   "outputs": [],
   "source": [
    "s = decoder.predict(sample)\n",
    "s_orig = scaler.inverse_transform(s)\n",
    "\n",
    "coords_flat = s_orig[0, :coords.shape[1]]                    \n",
    "coords_p = coords_flat.reshape((n_p, 3))\n",
    "mask_bb = np.isin(p_indices, bb_indices)\n",
    "coords_bb = coords_p[mask_bb] \n",
    "coords_ca = coords_bb[1::4] \n",
    "\n",
    "new_traj = md.Trajectory(\n",
    "    xyz=np.array([coords_bb]),     \n",
    "    topology=rms_ref_bb.topology     \n",
    ")\n",
    "\n",
    "\n",
    "new_traj.save_pdb(\"./models/ae_reconstructed.pdb\")\n"
   ]
  },
  {
   "cell_type": "code",
   "execution_count": null,
   "id": "c1eea108-65c5-4ba9-966d-5d285a102513",
   "metadata": {},
   "outputs": [],
   "source": [
    "view = nv.show_file('./models/ae_reconstructed.pdb')\n",
    "view.clear_representations()\n",
    "view.add_line() \n",
    "#view.add_cartoon()\n",
    "view.center()\n",
    "view"
   ]
  },
  {
   "cell_type": "code",
   "execution_count": null,
   "id": "98c459e9-6972-49ce-bdd0-0d012ad61ac0",
   "metadata": {},
   "outputs": [],
   "source": [
    "mse = np.mean((s[0] - sample_x.numpy())**2)\n",
    "print(\"MSE ricostruzione:\", mse)"
   ]
  },
  {
   "cell_type": "code",
   "execution_count": null,
   "id": "2aebd360-a4a6-43de-a0fb-7fbcd5264b93",
   "metadata": {},
   "outputs": [],
   "source": [
    "from src.asmsanalysis import analyze_reconstruction, plot_section_errors\n",
    "import matplotlib.pyplot as plt\n",
    "# Utilizzo con i tuoi dati\n",
    "# Assumendo che sample_x e s[0] siano definiti\n",
    "orig = sample_x.numpy() \n",
    "recon = s[0]\n",
    "\n",
    "# Analisi completa\n",
    "fig, metrics = analyze_reconstruction(orig, recon, title_prefix=\"Autoencoder \")\n",
    "\n",
    "# Solo errori per sezione\n",
    "fig_sections, section_stats = plot_section_errors(orig, recon, n_sections=25, \n",
    "                                                   title=\"Analisi Errori per Sezione\")\n",
    "\n",
    "plt.show()\n",
    "\n",
    "# Stampa metriche\n",
    "print(\"\\n=== METRICHE RICOSTRUZIONE ===\")\n",
    "for metric, value in metrics.items():\n",
    "    (f\"{metric.upper()}: {value:.6f}\")"
   ]
  },
  {
   "cell_type": "code",
   "execution_count": null,
   "id": "00cb6366",
   "metadata": {},
   "outputs": [],
   "source": []
  }
 ],
 "metadata": {
  "kernelspec": {
   "display_name": "asmsa",
   "language": "python",
   "name": "python3"
  },
  "language_info": {
   "codemirror_mode": {
    "name": "ipython",
    "version": 3
   },
   "file_extension": ".py",
   "mimetype": "text/x-python",
   "name": "python",
   "nbconvert_exporter": "python",
   "pygments_lexer": "ipython3",
   "version": "3.10.11"
  }
 },
 "nbformat": 4,
 "nbformat_minor": 5
}
